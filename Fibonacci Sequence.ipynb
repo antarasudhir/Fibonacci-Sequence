{
 "cells": [
  {
   "cell_type": "markdown",
   "id": "e0bf5e81",
   "metadata": {},
   "source": [
    "# Fibonacci Sequence\n",
    "\n",
    "A fibonacci sequence refers to a series of numbers where each number is the sum of the two previous numbers"
   ]
  },
  {
   "cell_type": "code",
   "execution_count": null,
   "id": "df9fd5bf",
   "metadata": {},
   "outputs": [],
   "source": [
    "# A standard fibonacci sequence"
   ]
  },
  {
   "cell_type": "code",
   "execution_count": null,
   "id": "fdf97b2d",
   "metadata": {},
   "outputs": [],
   "source": [
    "def fibo(n):\n",
    "    if n <= 1:\n",
    "        return 1\n",
    "    else: \n",
    "        return fibo(n - 1) + fibo(n - 2)\n",
    "    \n",
    "num = 10\n",
    "if num <= 0:\n",
    "    int(input(\"Please enter a positive number\"))\n",
    "else:\n",
    "    print(\"Fibonacci Series:\", end=\" \")\n",
    "    \n",
    "for n in range(num):\n",
    "    print(fibo(n), end = \" \")"
   ]
  },
  {
   "cell_type": "code",
   "execution_count": null,
   "id": "a729bf02",
   "metadata": {},
   "outputs": [],
   "source": [
    "# Creating a fibonacci sequence for user's desired number"
   ]
  },
  {
   "cell_type": "code",
   "execution_count": null,
   "id": "508ee065",
   "metadata": {},
   "outputs": [],
   "source": [
    "def fibo(n):\n",
    "    if n <= 1:\n",
    "        return 1\n",
    "    else: \n",
    "        return fibo(n - 1) + fibo(n - 2)\n",
    "    \n",
    "num = int(input(\"Enter a positive number you would like to see the fibonacci sequence of: \"))\n",
    "if num <= 0:\n",
    "    int(input(\"Please enter a positive number\"))\n",
    "else:\n",
    "    print(\"Fibonacci Series:\", end=\" \")\n",
    "    \n",
    "for n in range(num):\n",
    "    print(fibo(n), end = \" \")"
   ]
  },
  {
   "cell_type": "code",
   "execution_count": null,
   "id": "6f32d5a0",
   "metadata": {},
   "outputs": [],
   "source": [
    "# Creating a continuous loop for the above code, and only breaking when the value entered is 0 "
   ]
  },
  {
   "cell_type": "code",
   "execution_count": null,
   "id": "c1296e0d",
   "metadata": {},
   "outputs": [],
   "source": [
    "def fibo(n):\n",
    "    \n",
    "    if n <= 1:\n",
    "        return 1\n",
    "    else:\n",
    "        return fibo(n - 1) + fibo(n - 2)\n",
    "    \n",
    "num = int(input(\"Enter a positive number you would like to see the fibonacci sequence of: \"))\n",
    "if num <= 0:\n",
    "    int(input(\"Please enter a positive number\"))\n",
    "else:\n",
    "    print(\"Fibonacci Series:\", end=\" \")\n",
    "    \n",
    "for n in range(num):\n",
    "    print(fibo(n), end=\" \")\n",
    "    \n",
    "while True:\n",
    "    num = int(input(\"\\nEnter another positive number to continue the sequence or type 0 to exit: \"))\n",
    "    if num == 0:\n",
    "        break\n",
    "    else:\n",
    "        for n in range(num):\n",
    "            print(fibo(n), end=\" \")\n"
   ]
  },
  {
   "cell_type": "code",
   "execution_count": null,
   "id": "dc2a0849",
   "metadata": {},
   "outputs": [],
   "source": []
  }
 ],
 "metadata": {
  "kernelspec": {
   "display_name": "Python 3 (ipykernel)",
   "language": "python",
   "name": "python3"
  },
  "language_info": {
   "codemirror_mode": {
    "name": "ipython",
    "version": 3
   },
   "file_extension": ".py",
   "mimetype": "text/x-python",
   "name": "python",
   "nbconvert_exporter": "python",
   "pygments_lexer": "ipython3",
   "version": "3.11.4"
  }
 },
 "nbformat": 4,
 "nbformat_minor": 5
}
